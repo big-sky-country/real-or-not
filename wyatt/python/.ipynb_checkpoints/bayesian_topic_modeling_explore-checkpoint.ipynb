{
 "cells": [
  {
   "cell_type": "markdown",
   "metadata": {},
   "source": [
    "# Read in data & clean"
   ]
  },
  {
   "cell_type": "code",
   "execution_count": 32,
   "metadata": {},
   "outputs": [],
   "source": [
    "import pandas as pd\n",
    "import numpy as np\n",
    "import string\n",
    "import nltk\n",
    "import gensim\n",
    "from nltk.corpus import stopwords\n",
    "from nltk.stem.wordnet import WordNetLemmatizer\n",
    "from gensim import corpora\n",
    "\n",
    "\n",
    "train = pd.read_csv(\"/Users/wyattmadden/Documents/school/\" + \n",
    "                    \"MSU/2020/spring/cs547/group_project/\" + \n",
    "                    \"not_for_repo/nlp-getting-started/train.csv\")"
   ]
  },
  {
   "cell_type": "markdown",
   "metadata": {},
   "source": [
    "# following https://www.analyticsvidhya.com/blog/2016/08/beginners-guide-to-topic-modeling-in-python/"
   ]
  },
  {
   "cell_type": "markdown",
   "metadata": {},
   "source": [
    "Get stop words and tweet cleaning function:"
   ]
  },
  {
   "cell_type": "code",
   "execution_count": 25,
   "metadata": {},
   "outputs": [
    {
     "name": "stdout",
     "output_type": "stream",
     "text": [
      "[nltk_data] Downloading package stopwords to\n",
      "[nltk_data]     /Users/wyattmadden/nltk_data...\n",
      "[nltk_data]   Package stopwords is already up-to-date!\n",
      "[nltk_data] Downloading package wordnet to\n",
      "[nltk_data]     /Users/wyattmadden/nltk_data...\n",
      "[nltk_data]   Unzipping corpora/wordnet.zip.\n"
     ]
    }
   ],
   "source": [
    "\n",
    "stop = set(stopwords.words('english'))\n",
    "exclude = set(string.punctuation)\n",
    "lemma = WordNetLemmatizer()\n",
    "\n",
    "def clean(doc):\n",
    "    stop_free = \" \".join([i for i in doc.lower().split() if i not in stop])\n",
    "    punc_free = ''.join(ch for ch in stop_free if ch not in exclude)\n",
    "    normalized = \" \".join(lemma.lemmatize(word) for word in punc_free.split())\n",
    "    return normalized"
   ]
  },
  {
   "cell_type": "code",
   "execution_count": 42,
   "metadata": {},
   "outputs": [],
   "source": [
    "train['text_clean'] = [clean(i).split() for i in train['text']]\n",
    "dictionary = corpora.Dictionary(train['text_clean'])\n",
    "doc_term_matrix = [dictionary.doc2bow(i) for i in train['text_clean']]\n",
    "Lda = gensim.models.ldamodel.LdaModel"
   ]
  },
  {
   "cell_type": "code",
   "execution_count": 47,
   "metadata": {},
   "outputs": [],
   "source": [
    "ldamodel = Lda(doc_term_matrix, num_topics=3, id2word = dictionary, passes=10)"
   ]
  },
  {
   "cell_type": "code",
   "execution_count": 48,
   "metadata": {},
   "outputs": [
    {
     "name": "stdout",
     "output_type": "stream",
     "text": [
      "[(0, '0.005*\"storm\" + 0.005*\"disaster\" + 0.004*\"police\" + 0.003*\"mh370\" + 0.003*\"via\" + 0.003*\"obama\" + 0.003*\"new\" + 0.003*\"nuclear\" + 0.003*\"weapon\" + 0.003*\"woman\"'), (1, '0.009*\"like\" + 0.006*\"get\" + 0.006*\"im\" + 0.005*\"amp\" + 0.005*\"one\" + 0.004*\"u\" + 0.003*\"people\" + 0.003*\"look\" + 0.003*\"time\" + 0.003*\"got\"'), (2, '0.008*\"fire\" + 0.004*\"california\" + 0.004*\"video\" + 0.003*\"news\" + 0.003*\"wildfire\" + 0.003*\"flood\" + 0.003*\"suicide\" + 0.003*\"wreck\" + 0.003*\"im\" + 0.003*\"family\"')]\n"
     ]
    }
   ],
   "source": [
    "print(ldamodel.print_topics(num_topics=3, num_words=10))"
   ]
  }
 ],
 "metadata": {
  "kernelspec": {
   "display_name": "Python 3",
   "language": "python",
   "name": "python3"
  },
  "language_info": {
   "codemirror_mode": {
    "name": "ipython",
    "version": 3
   },
   "file_extension": ".py",
   "mimetype": "text/x-python",
   "name": "python",
   "nbconvert_exporter": "python",
   "pygments_lexer": "ipython3",
   "version": "3.6.5"
  }
 },
 "nbformat": 4,
 "nbformat_minor": 2
}
